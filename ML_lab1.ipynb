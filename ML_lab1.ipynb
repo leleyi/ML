{
 "cells": [
  {
   "cell_type": "markdown",
   "metadata": {
    "toc": true
   },
   "source": [
    "<h1>Table of Contents<span class=\"tocSkip\"></span></h1>\n",
    "<div class=\"toc\"><ul class=\"toc-item\"><li><span><a href=\"#ML-First-lab\" data-toc-modified-id=\"ML-First-lab-1\"><span class=\"toc-item-num\">1&nbsp;&nbsp;</span>ML First lab</a></span></li></ul></div>"
   ]
  },
  {
   "cell_type": "markdown",
   "metadata": {},
   "source": [
    "### ML First lab"
   ]
  },
  {
   "cell_type": "markdown",
   "metadata": {},
   "source": [
    "*\tStudent ID:192050223\n",
    "*\tFirst Name:Liu\n",
    "*\tLast Name: Jun\n"
   ]
  },
  {
   "cell_type": "code",
   "execution_count": 2,
   "metadata": {},
   "outputs": [],
   "source": [
    "import numpy as np"
   ]
  },
  {
   "cell_type": "markdown",
   "metadata": {},
   "source": [
    "* Get your DingTalk number (write it manually to notebook) and split into sequence of three-digit numbers.  The tail with one two-digit number should be discarded. For example for ID=12345678900 this code should return sequence [123, 456, 789].  "
   ]
  },
  {
   "cell_type": "code",
   "execution_count": 3,
   "metadata": {},
   "outputs": [],
   "source": [
    "def getSequence(x, step = 3):\n",
    "    x = str(x)\n",
    "    arr = []\n",
    "    for i in range(0, len(x) - step + 1,step):\n",
    "        arr.append(int(x[i:i + step]))\n",
    "    return arr"
   ]
  },
  {
   "cell_type": "code",
   "execution_count": 4,
   "metadata": {},
   "outputs": [
    {
     "name": "stdout",
     "output_type": "stream",
     "text": [
      "[181, 909, 485]\n"
     ]
    }
   ],
   "source": [
    "ID = 18190948520\n",
    "sequence = getSequence(ID)\n",
    "print(sequence)"
   ]
  },
  {
   "cell_type": "markdown",
   "metadata": {},
   "source": [
    "* Convert this sequence of numbers into 3x3 numpy matrix A where each element of previous array is a row and one digit of each number is a column. For example, for this sequence [123, 456, 789] the matrix will be equal to [[1,2,3],[4,5,6],[7,8,9]]"
   ]
  },
  {
   "cell_type": "code",
   "execution_count": 5,
   "metadata": {},
   "outputs": [
    {
     "name": "stdout",
     "output_type": "stream",
     "text": [
      "[[1, 8, 1], [9, 0, 9], [4, 8, 5]]\n"
     ]
    }
   ],
   "source": [
    "mat = [getSequence(seq,1) for seq in sequence]\n",
    "print(mat)"
   ]
  },
  {
   "cell_type": "markdown",
   "metadata": {},
   "source": [
    "* Read the NumPy documentation and compute the reversed matrix A (if you can reverse it), transposed matrix A, multiplication of matrix A and matrix A^(-1) or matrix A and transposed A, create a submatrix consists of the first and third rows of matrix A"
   ]
  },
  {
   "cell_type": "code",
   "execution_count": 9,
   "metadata": {},
   "outputs": [
    {
     "name": "stdout",
     "output_type": "stream",
     "text": [
      "transosed==============:)=========\n",
      "[[1 9 4]\n",
      " [8 0 8]\n",
      " [1 9 5]]\n",
      "inv==============:)===============\n",
      "[[ 1.00000000e+00  4.44444444e-01 -1.00000000e+00]\n",
      " [ 1.25000000e-01 -1.38888889e-02 -6.93889390e-18]\n",
      " [-1.00000000e+00 -3.33333333e-01  1.00000000e+00]]\n",
      "asn1==============:)==============\n",
      "[[ 1 72  4]\n",
      " [72  0 72]\n",
      " [ 4 72 25]]\n",
      "ans2==============:)==============\n",
      "[[ 1.00000000e+00  0.00000000e+00  0.00000000e+00]\n",
      " [ 2.22044605e-16  1.00000000e+00 -2.22044605e-16]\n",
      " [ 2.22044605e-16  0.00000000e+00  1.00000000e+00]]\n",
      "sum_matrix==============:)========\n",
      "[[1 8 1]\n",
      " [4 8 5]]\n"
     ]
    }
   ],
   "source": [
    "matrix = np.array(mat)\n",
    "\n",
    "transposed = matrix.T\n",
    "inv = np.linalg.inv(matrix)\n",
    "inv = np.matrix(mat).I\n",
    "\n",
    "ans1 = matrix * transposed\n",
    "ans2 = matrix * inv\n",
    "\n",
    "sub_matrix=matrix[[0,2]] \n",
    "\n",
    "print(\"transosed==============:)=========\")\n",
    "print(transposed)\n",
    "print(\"inv==============:)===============\")\n",
    "print(inv)\n",
    "print(\"asn1==============:)==============\")\n",
    "print(ans1)\n",
    "print(\"ans2==============:)==============\")\n",
    "print(ans2)\n",
    "print(\"sum_matrix==============:)========\")\n",
    "print(sub_matrix)"
   ]
  },
  {
   "cell_type": "code",
   "execution_count": null,
   "metadata": {},
   "outputs": [],
   "source": []
  }
 ],
 "metadata": {
  "kernelspec": {
   "display_name": "Python 3",
   "language": "python",
   "name": "python3"
  },
  "language_info": {
   "codemirror_mode": {
    "name": "ipython",
    "version": 3
   },
   "file_extension": ".py",
   "mimetype": "text/x-python",
   "name": "python",
   "nbconvert_exporter": "python",
   "pygments_lexer": "ipython3",
   "version": "3.7.4"
  },
  "latex_envs": {
   "LaTeX_envs_menu_present": true,
   "autoclose": false,
   "autocomplete": true,
   "bibliofile": "biblio.bib",
   "cite_by": "apalike",
   "current_citInitial": 1,
   "eqLabelWithNumbers": true,
   "eqNumInitial": 1,
   "hotkeys": {
    "equation": "Ctrl-E",
    "itemize": "Ctrl-I"
   },
   "labels_anchors": false,
   "latex_user_defs": false,
   "report_style_numbering": false,
   "user_envs_cfg": false
  },
  "toc": {
   "base_numbering": 1,
   "nav_menu": {},
   "number_sections": true,
   "sideBar": true,
   "skip_h1_title": false,
   "title_cell": "Table of Contents",
   "title_sidebar": "Contents",
   "toc_cell": true,
   "toc_position": {},
   "toc_section_display": true,
   "toc_window_display": true
  }
 },
 "nbformat": 4,
 "nbformat_minor": 2
}
