{
 "cells": [
  {
   "cell_type": "markdown",
   "metadata": {
    "toc": true
   },
   "source": [
    "<h1>Table of Contents<span class=\"tocSkip\"></span></h1>\n",
    "<div class=\"toc\"><ul class=\"toc-item\"><li><span><a href=\"#ML-lab2¶\" data-toc-modified-id=\"ML-lab2¶-1\"><span class=\"toc-item-num\">1&nbsp;&nbsp;</span>ML lab2¶</a></span><ul class=\"toc-item\"><li><span><a href=\"#Description\" data-toc-modified-id=\"Description-1.1\"><span class=\"toc-item-num\">1.1&nbsp;&nbsp;</span>Description</a></span></li><li><span><a href=\"#Data\" data-toc-modified-id=\"Data-1.2\"><span class=\"toc-item-num\">1.2&nbsp;&nbsp;</span>Data</a></span></li><li><span><a href=\"#Train\" data-toc-modified-id=\"Train-1.3\"><span class=\"toc-item-num\">1.3&nbsp;&nbsp;</span>Train</a></span></li><li><span><a href=\"#result\" data-toc-modified-id=\"result-1.4\"><span class=\"toc-item-num\">1.4&nbsp;&nbsp;</span>result</a></span></li></ul></li></ul></div>"
   ]
  },
  {
   "cell_type": "markdown",
   "metadata": {},
   "source": [
    "###  ML lab2¶\n",
    "\n",
    "Yacht Hydrodynamics Data Set"
   ]
  },
  {
   "cell_type": "markdown",
   "metadata": {},
   "source": [
    "* Student ID:192050223\n",
    "* First Name:Liu\n",
    "* Last Name: Jun"
   ]
  },
  {
   "cell_type": "markdown",
   "metadata": {},
   "source": [
    "#### Description\n",
    "Practice work description\n",
    "\n",
    "In the second lab you should learn how to use scikit learn and pandas libraries in solving of machine learning tasks.\n",
    "\n",
    "Also, you will get to know the k-nearest neighbors method.\n",
    "\n",
    "Variants for your practice work are placed in a directory 'variants' and xls-file contains the number of your variant.\n",
    "\n",
    "Taks statement:\n",
    "\n",
    "Please, investigate the \"knn example\" directory. This example shows how to use scikit learn's kNN method, pandas dataframes and\n",
    "\n",
    "how to estimate the machine learning classification algorithm in a simple manner.\n",
    "\n",
    "\n",
    "**In according to you variant prepare ipython notebook file that solve regression or classification task using kNN approach and estimate your model using accuracy and confusion matrix for a classification problem or r2_score for regression.**\n",
    "\n",
    "Also, try to tune parameters of kNN algorithm to achieve better results in according to quality measure (accuracy or r2 score)"
   ]
  },
  {
   "cell_type": "markdown",
   "metadata": {},
   "source": [
    "* Variant 9\n",
    "* Yacht Hydrodynamics Data Set\n",
    " * 1.Longitudinal position of the center of buoyancy, adimensional.\n",
    " * 2.Prismatic coefficient, adimensional.\n",
    " * 3.Length-displacement ratio, adimensional.\n",
    " * 4.Beam-draught ratio, adimensional.\n",
    " * 5.Length-beam ratio, adimensional.\n",
    " * 6.Froude number, adimensional.\n",
    " * 7.Residuary resistance per unit weight of displacement, adimensional.\n",
    " \n",
    "The measured variable is the residuary resistance per unit weight of displacement:\n"
   ]
  },
  {
   "cell_type": "code",
   "execution_count": 2,
   "metadata": {},
   "outputs": [],
   "source": [
    "import pandas as pd\n",
    "import numpy as np\n",
    "%matplotlib inline\n",
    "import matplotlib.pyplot as plt"
   ]
  },
  {
   "cell_type": "markdown",
   "metadata": {},
   "source": [
    "#### Data "
   ]
  },
  {
   "cell_type": "code",
   "execution_count": 3,
   "metadata": {},
   "outputs": [
    {
     "data": {
      "text/html": [
       "<div>\n",
       "<style scoped>\n",
       "    .dataframe tbody tr th:only-of-type {\n",
       "        vertical-align: middle;\n",
       "    }\n",
       "\n",
       "    .dataframe tbody tr th {\n",
       "        vertical-align: top;\n",
       "    }\n",
       "\n",
       "    .dataframe thead th {\n",
       "        text-align: right;\n",
       "    }\n",
       "</style>\n",
       "<table border=\"1\" class=\"dataframe\">\n",
       "  <thead>\n",
       "    <tr style=\"text-align: right;\">\n",
       "      <th></th>\n",
       "      <th>0</th>\n",
       "      <th>1</th>\n",
       "      <th>2</th>\n",
       "      <th>3</th>\n",
       "      <th>4</th>\n",
       "      <th>5</th>\n",
       "      <th>6</th>\n",
       "    </tr>\n",
       "  </thead>\n",
       "  <tbody>\n",
       "    <tr>\n",
       "      <td>count</td>\n",
       "      <td>308.000000</td>\n",
       "      <td>308.000000</td>\n",
       "      <td>308.000000</td>\n",
       "      <td>308.000000</td>\n",
       "      <td>308.000000</td>\n",
       "      <td>308.000000</td>\n",
       "      <td>308.000000</td>\n",
       "    </tr>\n",
       "    <tr>\n",
       "      <td>mean</td>\n",
       "      <td>-2.381818</td>\n",
       "      <td>0.564136</td>\n",
       "      <td>4.788636</td>\n",
       "      <td>3.936818</td>\n",
       "      <td>3.206818</td>\n",
       "      <td>0.287500</td>\n",
       "      <td>10.495357</td>\n",
       "    </tr>\n",
       "    <tr>\n",
       "      <td>std</td>\n",
       "      <td>1.513219</td>\n",
       "      <td>0.023290</td>\n",
       "      <td>0.253057</td>\n",
       "      <td>0.548193</td>\n",
       "      <td>0.247998</td>\n",
       "      <td>0.100942</td>\n",
       "      <td>15.160490</td>\n",
       "    </tr>\n",
       "    <tr>\n",
       "      <td>min</td>\n",
       "      <td>-5.000000</td>\n",
       "      <td>0.530000</td>\n",
       "      <td>4.340000</td>\n",
       "      <td>2.810000</td>\n",
       "      <td>2.730000</td>\n",
       "      <td>0.125000</td>\n",
       "      <td>0.010000</td>\n",
       "    </tr>\n",
       "    <tr>\n",
       "      <td>25%</td>\n",
       "      <td>-2.400000</td>\n",
       "      <td>0.546000</td>\n",
       "      <td>4.770000</td>\n",
       "      <td>3.750000</td>\n",
       "      <td>3.150000</td>\n",
       "      <td>0.200000</td>\n",
       "      <td>0.777500</td>\n",
       "    </tr>\n",
       "    <tr>\n",
       "      <td>50%</td>\n",
       "      <td>-2.300000</td>\n",
       "      <td>0.565000</td>\n",
       "      <td>4.780000</td>\n",
       "      <td>3.955000</td>\n",
       "      <td>3.150000</td>\n",
       "      <td>0.287500</td>\n",
       "      <td>3.065000</td>\n",
       "    </tr>\n",
       "    <tr>\n",
       "      <td>75%</td>\n",
       "      <td>-2.300000</td>\n",
       "      <td>0.574000</td>\n",
       "      <td>5.100000</td>\n",
       "      <td>4.170000</td>\n",
       "      <td>3.510000</td>\n",
       "      <td>0.375000</td>\n",
       "      <td>12.815000</td>\n",
       "    </tr>\n",
       "    <tr>\n",
       "      <td>max</td>\n",
       "      <td>0.000000</td>\n",
       "      <td>0.600000</td>\n",
       "      <td>5.140000</td>\n",
       "      <td>5.350000</td>\n",
       "      <td>3.640000</td>\n",
       "      <td>0.450000</td>\n",
       "      <td>62.420000</td>\n",
       "    </tr>\n",
       "  </tbody>\n",
       "</table>\n",
       "</div>"
      ],
      "text/plain": [
       "                0           1           2           3           4           5  \\\n",
       "count  308.000000  308.000000  308.000000  308.000000  308.000000  308.000000   \n",
       "mean    -2.381818    0.564136    4.788636    3.936818    3.206818    0.287500   \n",
       "std      1.513219    0.023290    0.253057    0.548193    0.247998    0.100942   \n",
       "min     -5.000000    0.530000    4.340000    2.810000    2.730000    0.125000   \n",
       "25%     -2.400000    0.546000    4.770000    3.750000    3.150000    0.200000   \n",
       "50%     -2.300000    0.565000    4.780000    3.955000    3.150000    0.287500   \n",
       "75%     -2.300000    0.574000    5.100000    4.170000    3.510000    0.375000   \n",
       "max      0.000000    0.600000    5.140000    5.350000    3.640000    0.450000   \n",
       "\n",
       "                6  \n",
       "count  308.000000  \n",
       "mean    10.495357  \n",
       "std     15.160490  \n",
       "min      0.010000  \n",
       "25%      0.777500  \n",
       "50%      3.065000  \n",
       "75%     12.815000  \n",
       "max     62.420000  "
      ]
     },
     "execution_count": 3,
     "metadata": {},
     "output_type": "execute_result"
    }
   ],
   "source": [
    "df = pd.read_csv(\"./yacht_hydrodynamics.data\",sep= \" \", header=None)\n",
    "#df.head()\n",
    "df.describe()"
   ]
  },
  {
   "cell_type": "code",
   "execution_count": 6,
   "metadata": {},
   "outputs": [
    {
     "name": "stdout",
     "output_type": "stream",
     "text": [
      "X:  (308, 6)\n",
      "y:  (308,)\n"
     ]
    }
   ],
   "source": [
    "X=df.values[:,0:-1]\n",
    "y=df.values[:,-1] # the index 6 is the target\n",
    "print(\"X: \",X.shape)\n",
    "print(\"y: \",y.shape)"
   ]
  },
  {
   "cell_type": "code",
   "execution_count": 7,
   "metadata": {},
   "outputs": [],
   "source": [
    "# data normalaiztion\n",
    "from sklearn.preprocessing import StandardScaler\n",
    "ss_X=StandardScaler()\n",
    "ss_y=StandardScaler()\n",
    "\n",
    "X_train=ss_X.fit_transform(X_train)\n",
    "X_test=ss_X.transform(X_test)\n",
    "y_train=ss_y.fit_transform(y_train.reshape(-1, 1))\n",
    "y_test=ss_y.transform(y_test.reshape(-1, 1))"
   ]
  },
  {
   "cell_type": "markdown",
   "metadata": {},
   "source": [
    "$R^{2}=1-\\frac{\\sum_{i}\\left(\\hat{y}^{(i)}-y^{(i)}\\right)^{2}}{\\sum_{i}\\left(\\bar{y}-y^{(i)}\\right)^{2}}=1-\\frac{S S_{\\text {residual }}}{S S_{\\text {total }}}$\n",
    "\n",
    "$S S_{\\text {residual }}:$ Residual Sum of Squares\n",
    "\n",
    "$S S_{\\text {total }}:$ Total Sum of Squares"
   ]
  },
  {
   "cell_type": "code",
   "execution_count": 18,
   "metadata": {},
   "outputs": [],
   "source": [
    "from sklearn.model_selection import train_test_split\n",
    "X_train,X_test,y_train,y_test = train_test_split(X,y,test_size=0.25 ,random_state=42)"
   ]
  },
  {
   "cell_type": "markdown",
   "metadata": {},
   "source": [
    "#### Train"
   ]
  },
  {
   "cell_type": "code",
   "execution_count": 23,
   "metadata": {},
   "outputs": [],
   "source": [
    "# the regression problem \n",
    "from sklearn.neighbors import KNeighborsRegressor\n",
    "#Setup arrays to store training and test accuracies\n",
    "neighbors = np.arange(1,30)\n",
    "train_accuracy_uni =np.empty(len(neighbors))\n",
    "test_accuracy_uni = np.empty(len(neighbors))\n",
    "\n",
    "train_accuracy_dis =np.empty(len(neighbors))\n",
    "test_accuracy_dis = np.empty(len(neighbors))\n",
    "\n",
    "for i,k in enumerate(neighbors):\n",
    "    #Setup a knn classifier with k neighbors\n",
    "    knn_uni = KNeighborsRegressor(n_neighbors=k, weights='uniform')\n",
    "    knn_dis = KNeighborsRegressor(n_neighbors=k, weights='distance')\n",
    "    \n",
    "    #Fit the model\n",
    "    knn_uni.fit(X_train, y_train)\n",
    "    knn_dis.fit(X_train, y_train)\n",
    "    \n",
    "    #Compute accuracy on the training set\n",
    "    train_accuracy_uni[i] = knn_uni.score(X_train, y_train)\n",
    "    train_accuracy_dis[i] = knn_dis.score(X_train, y_train)\n",
    "    \n",
    "    #Compute accuracy on the test set\n",
    "    test_accuracy_uni[i] = knn_uni.score(X_test, y_test)\n",
    "    test_accuracy_dis[i] = knn_dis.score(X_test, y_test)\n",
    "    "
   ]
  },
  {
   "cell_type": "code",
   "execution_count": 24,
   "metadata": {},
   "outputs": [
    {
     "data": {
      "image/png": "[encoded data removed]",
      "text/plain": [
       "<Figure size 432x288 with 1 Axes>"
      ]
     },
     "metadata": {
      "needs_background": "light"
     },
     "output_type": "display_data"
    }
   ],
   "source": [
    "#Generate plot\n",
    "plt.title('k-NN Varying number of neighbors')\n",
    "plt.plot(neighbors, test_accuracy_uni, label='Uni_Testing Accuracy')\n",
    "plt.plot(neighbors, train_accuracy_uni, label='Uni_Training accuracy')\n",
    "plt.plot(neighbors, test_accuracy_dis, label='Dis_Testing Accuracy')\n",
    "plt.plot(neighbors, train_accuracy_dis, label='Dis_Training accuracy')\n",
    "plt.legend()\n",
    "plt.xlabel('Number of neighbors')\n",
    "plt.ylabel('R2')\n",
    "plt.show()"
   ]
  },
  {
   "cell_type": "code",
   "execution_count": 25,
   "metadata": {},
   "outputs": [],
   "source": [
    "uni_knr=KNeighborsRegressor(n_neighbors=5,weights='uniform')   #初始化平均回归的KNN回归器\n",
    "uni_knr.fit(X_train,y_train)\n",
    "uni_knr_y_predict=uni_knr.predict(X_test)\n",
    "\n",
    "dis_knr=KNeighborsRegressor(n_neighbors=5,weights='distance')   #初始化距离加权回归的KNN回归器\n",
    "\n",
    "dis_knr.fit(X_train,y_train)\n",
    "dis_knr_y_predict=dis_knr.predict(X_test)"
   ]
  },
  {
   "cell_type": "markdown",
   "metadata": {},
   "source": [
    "#### result"
   ]
  },
  {
   "cell_type": "code",
   "execution_count": 26,
   "metadata": {},
   "outputs": [
    {
     "name": "stdout",
     "output_type": "stream",
     "text": [
      "!!!!!R-squared value of uniform-weighted KNeighborsRegression: 0.3988521320142937\n",
      "The mean squared error of uniform-weighted KNeighborsRegression: 19669.774140265185\n",
      "The mean absolute error of uniform-weighted KNeighborsRegression: 73.21046659845003\n",
      " \n",
      "!!!!!R-squared value of distance-weighted KNeighborsRegression: 0.6650410711103663\n",
      "The mean squared error of distance-weighted KNeighborsRegression: 10959.976452384095\n",
      "The mean absolute error of distance-weighted KNeighborsRegression: 51.50491953562413\n"
     ]
    }
   ],
   "source": [
    "from sklearn.metrics import r2_score,mean_absolute_error,mean_squared_error\n",
    "\n",
    "print('!!!!!R-squared value of uniform-weighted KNeighborsRegression:',uni_knr.score(X_test,y_test))\n",
    "print('The mean squared error of uniform-weighted KNeighborsRegression:',mean_squared_error(ss_y.inverse_transform(y_test),\n",
    "                                                                                            ss_y.inverse_transform(uni_knr_y_predict)))\n",
    "print('The mean absolute error of uniform-weighted KNeighborsRegression:',mean_absolute_error(ss_y.inverse_transform(y_test),\n",
    "                                                                                              ss_y.inverse_transform(uni_knr_y_predict)))\n",
    "print(' ')\n",
    "print('!!!!!R-squared value of distance-weighted KNeighborsRegression:',dis_knr.score(X_test,y_test))\n",
    "print('The mean squared error of distance-weighted KNeighborsRegression:',mean_squared_error(ss_y.inverse_transform(y_test),\n",
    "                                                                                             ss_y.inverse_transform(dis_knr_y_predict)))\n",
    "print('The mean absolute error of distance-weighted KNeighborsRegression:',mean_absolute_error(ss_y.inverse_transform(y_test),\n",
    "                                                                                               ss_y.inverse_transform(dis_knr_y_predict)))"
   ]
  },
  {
   "cell_type": "code",
   "execution_count": null,
   "metadata": {},
   "outputs": [],
   "source": []
  }
 ],
 "metadata": {
  "kernelspec": {
   "display_name": "Python 3",
   "language": "python",
   "name": "python3"
  },
  "language_info": {
   "codemirror_mode": {
    "name": "ipython",
    "version": 3
   },
   "file_extension": ".py",
   "mimetype": "text/x-python",
   "name": "python",
   "nbconvert_exporter": "python",
   "pygments_lexer": "ipython3",
   "version": "3.7.4"
  },
  "latex_envs": {
   "LaTeX_envs_menu_present": true,
   "autoclose": false,
   "autocomplete": true,
   "bibliofile": "biblio.bib",
   "cite_by": "apalike",
   "current_citInitial": 1,
   "eqLabelWithNumbers": true,
   "eqNumInitial": 1,
   "hotkeys": {
    "equation": "Ctrl-E",
    "itemize": "Ctrl-I"
   },
   "labels_anchors": false,
   "latex_user_defs": false,
   "report_style_numbering": false,
   "user_envs_cfg": false
  },
  "toc": {
   "base_numbering": 1,
   "nav_menu": {},
   "number_sections": true,
   "sideBar": true,
   "skip_h1_title": false,
   "title_cell": "Table of Contents",
   "title_sidebar": "Contents",
   "toc_cell": true,
   "toc_position": {
    "height": "calc(100% - 180px)",
    "left": "10px",
    "top": "150px",
    "width": "189.536px"
   },
   "toc_section_display": true,
   "toc_window_display": true
  }
 },
 "nbformat": 4,
 "nbformat_minor": 2
}
